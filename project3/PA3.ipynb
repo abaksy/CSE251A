{
 "cells": [
  {
   "cell_type": "code",
   "execution_count": 1,
   "metadata": {},
   "outputs": [],
   "source": [
    "from __future__ import print_function\n",
    "import numpy as np\n",
    "import matplotlib.pyplot as plt"
   ]
  },
  {
   "cell_type": "markdown",
   "metadata": {},
   "source": [
    "First, we define some functions for computing the output of the multilayer perceptron."
   ]
  },
  {
   "cell_type": "code",
   "execution_count": 2,
   "metadata": {},
   "outputs": [],
   "source": [
    "def softmax(x):\n",
    "    '''\n",
    "    Input\n",
    "         x: a vector in ndarray format, \n",
    "            typically the raw score of prediction.\n",
    "    Output \n",
    "         a vector in ndarray format,\n",
    "         typically representing the predicted class probability.\n",
    "    '''\n",
    "    res = np.exp(x-np.max(x))\n",
    "    return res/np.sum(res)\n",
    "\n",
    "def cross_entropy(y, p):\n",
    "    '''\n",
    "    Input\n",
    "        y: an int representing the class label\n",
    "        p: a vector in ndarray format showing the predicted\n",
    "           probability of each class.\n",
    "           \n",
    "    Output\n",
    "        the cross entropy loss. \n",
    "    '''\n",
    "    log_likelihood = -np.log(p)\n",
    "    return log_likelihood[y]\n",
    "\n",
    "def relu(x):\n",
    "    '''\n",
    "    Input\n",
    "        x: a vector in ndarray format\n",
    "    Output\n",
    "        a vector in ndarray format,\n",
    "        representing the ReLu activation of x.\n",
    "    '''\n",
    "    return np.maximum(x, 0)"
   ]
  },
  {
   "cell_type": "markdown",
   "metadata": {},
   "source": [
    "Next, we define the structure and some utility functions of our multi-layer perceptron."
   ]
  },
  {
   "cell_type": "code",
   "execution_count": 3,
   "metadata": {},
   "outputs": [],
   "source": [
    "class MultiLayerPerceptron():\n",
    "    '''\n",
    "    This class defines the multi-layer perceptron we will be using\n",
    "    as the attack target.\n",
    "    \n",
    "    '''\n",
    "    def __init__(self):\n",
    "        self.eps = 0.1\n",
    "    \n",
    "    def load_params(self, params):\n",
    "        '''\n",
    "        This method loads the weights and biases of a trained model.\n",
    "        '''\n",
    "        self.W1 = params[\"fc1.weight\"]\n",
    "        self.b1 = params[\"fc1.bias\"]\n",
    "        self.W2 = params[\"fc2.weight\"]\n",
    "        self.b2 = params[\"fc2.bias\"]\n",
    "        self.W3 = params[\"fc3.weight\"]\n",
    "        self.b3 = params[\"fc3.bias\"]\n",
    "        self.W4 = params[\"fc4.weight\"]\n",
    "        self.b4 = params[\"fc4.bias\"]\n",
    "        \n",
    "    def set_attack_budget(self, eps):\n",
    "        '''\n",
    "        This method sets the maximum L_infty norm of the adversarial\n",
    "        perturbation.\n",
    "        '''\n",
    "        self.eps = eps\n",
    "        \n",
    "    def forward(self, x):\n",
    "        '''\n",
    "        This method finds the predicted probability vector of an input\n",
    "        image x.\n",
    "        \n",
    "        Input\n",
    "            x: a single image vector in ndarray format\n",
    "        Ouput\n",
    "            a vector in ndarray format representing the predicted class\n",
    "            probability of x.\n",
    "            \n",
    "        Intermediate results are stored as class attributes.\n",
    "        You might need them for gradient computation.\n",
    "        '''\n",
    "        W1, W2, W3, W4 = self.W1, self.W2, self.W3, self.W4\n",
    "        b1, b2, b3, b4 = self.b1, self.b2, self.b3, self.b4\n",
    "        \n",
    "        self.z1 = np.matmul(x,W1)+b1\n",
    "        self.h1 = relu(self.z1)\n",
    "        self.z2 = np.matmul(self.h1,W2)+b2\n",
    "        self.h2 = relu(self.z2)\n",
    "        self.z3 = np.matmul(self.h2,W3)+b3\n",
    "        self.h3 = relu(self.z3)\n",
    "        self.z4 = np.matmul(self.h3,W4)+b4\n",
    "        self.p = softmax(self.z4)\n",
    "        \n",
    "        return self.p\n",
    "        \n",
    "    def predict(self, x):\n",
    "        '''\n",
    "        This method takes a single image vector x and returns the \n",
    "        predicted class label of it.\n",
    "        '''\n",
    "        res = self.forward(x)\n",
    "        return np.argmax(res)\n",
    "    \n",
    "    def gradient(self,x,y):\n",
    "        ''' \n",
    "        This method finds the gradient of the cross-entropy loss\n",
    "        of an image-label pair (x,y) w.r.t. to the image x.\n",
    "        \n",
    "        Input\n",
    "            x: the input image vector in ndarray format\n",
    "            y: the true label of x\n",
    "            \n",
    "        Output\n",
    "            a vector in ndarray format representing\n",
    "            the gradient of the cross-entropy loss of (x,y)\n",
    "            w.r.t. the image x.\n",
    "        '''\n",
    "        p = self.forward(x)\n",
    "        dL_dz4 = (p - np.eye(10)[y]).reshape(1,-1)  \n",
    "        dZ4_dh3 = self.W4.T                        \n",
    "        dH3_dz3 = np.diag(np.where(self.h3>0,1,0))\n",
    "        dZ3_dh2 = self.W3.T\n",
    "        dH2_dz2 = np.diag(np.where(self.h2>0,1,0))\n",
    "        dZ2_dh1 = self.W2.T\n",
    "        dH1_dz1 = np.diag(np.where(self.h1>0,1,0))\n",
    "        dZ1_dx = self.W1.T\n",
    "        return dL_dz4 @ dZ4_dh3 @ dH3_dz3 @ dZ3_dh2 @ dH2_dz2 @ dZ2_dh1 @ dH1_dz1 @ dZ1_dx\n",
    "    \n",
    "        \n",
    "    \n",
    "    def attack(self,x,y):\n",
    "        '''\n",
    "        This method generates the adversarial example of an\n",
    "        image-label pair (x,y) using the FGSM method\n",
    "        \n",
    "        Input\n",
    "            x: an image vector in ndarray format, representing\n",
    "               the image to be corrupted.\n",
    "            y: the true label of the image x.\n",
    "            \n",
    "        Output\n",
    "            a vector in ndarray format, representing\n",
    "            the adversarial example created from image x.\n",
    "        '''\n",
    "        grad_L = self.gradient(x, y)\n",
    "        return x + self.eps * np.sign(grad_L)"
   ]
  },
  {
   "cell_type": "markdown",
   "metadata": {},
   "source": [
    "Now, let's load the pre-trained model and the test data."
   ]
  },
  {
   "cell_type": "code",
   "execution_count": 4,
   "metadata": {},
   "outputs": [],
   "source": [
    "X_test = np.load(\"./data/X_test.npy\")\n",
    "Y_test = np.load(\"./data/Y_test.npy\")\n",
    "\n",
    "params = {}\n",
    "param_names = [\"fc1.weight\", \"fc1.bias\",\n",
    "               \"fc2.weight\", \"fc2.bias\",\n",
    "               \"fc3.weight\", \"fc3.bias\",\n",
    "               \"fc4.weight\", \"fc4.bias\"]\n",
    "\n",
    "for name in param_names:\n",
    "    params[name] = np.load(\"./data/\"+name+'.npy')\n",
    "    \n",
    "clf = MultiLayerPerceptron()\n",
    "clf.load_params(params)"
   ]
  },
  {
   "cell_type": "markdown",
   "metadata": {},
   "source": [
    "Check if the image data are loaded correctly. Let's visualize the first image in the data set."
   ]
  },
  {
   "cell_type": "code",
   "execution_count": 5,
   "metadata": {},
   "outputs": [
    {
     "name": "stdout",
     "output_type": "stream",
     "text": [
      "This is an image of Number 7\n"
     ]
    },
    {
     "data": {
      "text/plain": [
       "<matplotlib.image.AxesImage at 0x1055f9b20>"
      ]
     },
     "execution_count": 5,
     "metadata": {},
     "output_type": "execute_result"
    },
    {
     "data": {
      "image/png": "[encoded data removed]",
      "text/plain": [
       "<Figure size 640x480 with 1 Axes>"
      ]
     },
     "metadata": {},
     "output_type": "display_data"
    }
   ],
   "source": [
    "x, y = X_test[0], Y_test[0]\n",
    "print (\"This is an image of Number\", y)\n",
    "pixels = x.reshape((28,28))\n",
    "plt.imshow(pixels,cmap=\"gray\")"
   ]
  },
  {
   "cell_type": "markdown",
   "metadata": {},
   "source": [
    "Check if the model is loaded correctly. The test accuracy should be 97.6%"
   ]
  },
  {
   "cell_type": "code",
   "execution_count": 6,
   "metadata": {
    "scrolled": false
   },
   "outputs": [
    {
     "name": "stdout",
     "output_type": "stream",
     "text": [
      "Test accuracy is 0.976\n"
     ]
    }
   ],
   "source": [
    "nTest = 1000\n",
    "Y_pred = np.zeros(nTest)\n",
    "for i in range(nTest):\n",
    "    x, y = X_test[i], Y_test[i]\n",
    "    Y_pred[i] = clf.predict(x)\n",
    "acc = np.sum(Y_pred == Y_test[:nTest])*1.0/nTest\n",
    "print (\"Test accuracy is\", acc)"
   ]
  },
  {
   "cell_type": "markdown",
   "metadata": {},
   "source": [
    "Have fun!"
   ]
  },
  {
   "cell_type": "markdown",
   "metadata": {},
   "source": [
    "## Fast Gradient Sign Method"
   ]
  },
  {
   "cell_type": "code",
   "execution_count": 7,
   "metadata": {},
   "outputs": [
    {
     "name": "stdout",
     "output_type": "stream",
     "text": [
      "Running FGSM, eps= 0\n",
      "Accuracy: 0.976\n",
      "Running FGSM, eps= 0.05\n",
      "Accuracy: 0.335\n",
      "Running FGSM, eps= 0.1\n",
      "Accuracy: 0.014\n",
      "Running FGSM, eps= 0.15\n",
      "Accuracy: 0.002\n",
      "Running FGSM, eps= 0.2\n",
      "Accuracy: 0.0\n"
     ]
    }
   ],
   "source": [
    "epsilons = [0, 0.05, 0.1, 0.15, 0.2]\n",
    "fgsm_accs = list()\n",
    "nTest = 1000\n",
    "\n",
    "for eps in epsilons:\n",
    "    print(\"Running FGSM, eps=\", eps)\n",
    "    clf.set_attack_budget(eps)\n",
    "    y_pred_adv = np.zeros(Y_test.shape)\n",
    "    for i in range(nTest):\n",
    "        x, y = X_test[i], Y_test[i]\n",
    "        x_tilde = clf.attack(x, y)\n",
    "        y_hat = clf.predict(x_tilde)\n",
    "        y_pred_adv[i] = y_hat\n",
    "    acc = np.sum(y_pred_adv == Y_test)*1.0/nTest\n",
    "    print(\"Accuracy:\", acc)\n",
    "    fgsm_accs.append(acc)"
   ]
  },
  {
   "cell_type": "code",
   "execution_count": 8,
   "metadata": {},
   "outputs": [
    {
     "data": {
      "text/plain": [
       "<matplotlib.image.AxesImage at 0x10564ac00>"
      ]
     },
     "execution_count": 8,
     "metadata": {},
     "output_type": "execute_result"
    },
    {
     "data": {
      "image/png": "[encoded data removed]",
      "text/plain": [
       "<Figure size 640x480 with 1 Axes>"
      ]
     },
     "metadata": {},
     "output_type": "display_data"
    }
   ],
   "source": [
    "## Example of an adversarial image\n",
    "\n",
    "x_dash = clf.attack(X_test[0], Y_test[0])\n",
    "plt.imshow(x_dash.reshape(28, 28), cmap='gray')"
   ]
  },
  {
   "cell_type": "code",
   "execution_count": null,
   "metadata": {},
   "outputs": [],
   "source": [
    "class IFGSM(MultiLayerPerceptron):\n",
    "    '''\n",
    "    This class implements the Basic Iterative Method as described in https://arxiv.org/pdf/1607.02533\n",
    "    Rename heuristics for computing number of iterations (as described in the paper) \n",
    "    with a hard coded number because MNIST is a v simple dataset\n",
    "    '''\n",
    "    def __init__(self, N_iters: int):\n",
    "        super().__init__()\n",
    "        self.N_iters = N_iters\n",
    "    \n",
    "    def attack(self, x, y):\n",
    "        '''\n",
    "        This method generates the adversarial example of an\n",
    "        image-label pair (x,y) using the iterative FGSM method\n",
    "        \n",
    "        Input\n",
    "            x: an image vector in ndarray format, representing\n",
    "               the image to be corrupted.\n",
    "            y: the true label of the image x.\n",
    "            \n",
    "        Output\n",
    "            a vector in ndarray format, representing\n",
    "            the adversarial example created from image x.\n",
    "        '''\n",
    "        x_t = x\n",
    "        for i in range(self.N_iters):\n",
    "            L_grad = np.sign(self.gradient(x_t, y).flatten())\n",
    "            x_t = np.clip(x_t + L_grad, x - self.eps, x + self.eps)\n",
    "        return x_t"
   ]
  },
  {
   "cell_type": "code",
   "execution_count": 10,
   "metadata": {},
   "outputs": [
    {
     "data": {
      "text/plain": [
       "<matplotlib.image.AxesImage at 0x105a42270>"
      ]
     },
     "execution_count": 10,
     "metadata": {},
     "output_type": "execute_result"
    },
    {
     "data": {
      "image/png": "[encoded data removed]",
      "text/plain": [
       "<Figure size 640x480 with 1 Axes>"
      ]
     },
     "metadata": {},
     "output_type": "display_data"
    }
   ],
   "source": [
    "# Example of an adversarial image\n",
    "clf = IFGSM(8)\n",
    "clf.load_params(params)\n",
    "\n",
    "x_dash = clf.attack(X_test[0], Y_test[0])\n",
    "plt.imshow(x_dash.reshape(28, 28), cmap='gray')"
   ]
  },
  {
   "cell_type": "code",
   "execution_count": 11,
   "metadata": {},
   "outputs": [
    {
     "name": "stdout",
     "output_type": "stream",
     "text": [
      "Running Iterative FGSM, eps= 0.05\n",
      "Accuracy: 0.279\n",
      "Running Iterative FGSM, eps= 0.1\n",
      "Accuracy: 0.006\n",
      "Running Iterative FGSM, eps= 0.15\n",
      "Accuracy: 0.0\n",
      "Running Iterative FGSM, eps= 0.2\n",
      "Accuracy: 0.0\n"
     ]
    }
   ],
   "source": [
    "clf = IFGSM(8)\n",
    "clf.load_params(params)\n",
    "epsilons = [0.05, 0.1, 0.15, 0.2]\n",
    "ifgsm_accs = list()\n",
    "nTest = 1000\n",
    "\n",
    "for eps in epsilons:\n",
    "    print(\"Running Iterative FGSM, eps=\", eps)\n",
    "    clf.set_attack_budget(eps)\n",
    "    y_pred_adv = np.zeros(Y_test.shape)\n",
    "    for i in range(nTest):\n",
    "        x, y = X_test[i], Y_test[i]\n",
    "        x_tilde = clf.attack(x, y)\n",
    "        y_hat = clf.predict(x_tilde)\n",
    "        y_pred_adv[i] = y_hat\n",
    "    acc = np.sum(y_pred_adv == Y_test)*1.0/nTest\n",
    "    print(\"Accuracy:\", acc)\n",
    "    ifgsm_accs.append(acc)"
   ]
  },
  {
   "cell_type": "code",
   "execution_count": null,
   "metadata": {},
   "outputs": [],
   "source": [
    "class ILLCM(MultiLayerPerceptron):\n",
    "    '''\n",
    "    This class implements the Iterative Least-Likely Class Method as described in https://arxiv.org/pdf/1607.02533\n",
    "    Rename heuristics for computing number of iterations (as described in the paper) \n",
    "    with a hard coded number because MNIST is a v simple dataset\n",
    "    '''\n",
    "    def __init__(self, N_iters: int):\n",
    "        super().__init__()\n",
    "        self.N_iters = N_iters\n",
    "    \n",
    "    def attack(self, x, y):\n",
    "        '''\n",
    "        This method generates the adversarial example of an\n",
    "        image-label pair (x,y) using the iterative FGSM method\n",
    "        \n",
    "        Input\n",
    "            x: an image vector in ndarray format, representing\n",
    "               the image to be corrupted.\n",
    "            y: the true label of the image x.\n",
    "            \n",
    "        Output\n",
    "            a vector in ndarray format, representing\n",
    "            the adversarial example created from image x.\n",
    "        '''\n",
    "        x_t = x\n",
    "        logits = self.forward(x)\n",
    "        y_ll = np.argmin(logits) ## Least likely class\n",
    "        for i in range(self.N_iters):\n",
    "            L_grad = np.sign(self.gradient(x_t, y_ll).flatten())\n",
    "            x_t = np.clip(x_t - L_grad, x - self.eps, x + self.eps)\n",
    "        return x_t"
   ]
  },
  {
   "cell_type": "code",
   "execution_count": 13,
   "metadata": {},
   "outputs": [
    {
     "data": {
      "text/plain": [
       "<matplotlib.image.AxesImage at 0x105ab4c80>"
      ]
     },
     "execution_count": 13,
     "metadata": {},
     "output_type": "execute_result"
    },
    {
     "data": {
      "image/png": "[encoded data removed]",
      "text/plain": [
       "<Figure size 640x480 with 1 Axes>"
      ]
     },
     "metadata": {},
     "output_type": "display_data"
    }
   ],
   "source": [
    "# Example of an adversarial image\n",
    "clf = ILLCM(8)\n",
    "clf.load_params(params)\n",
    "\n",
    "x_dash = clf.attack(X_test[0], Y_test[0])\n",
    "plt.imshow(x_dash.reshape(28, 28), cmap='gray')"
   ]
  },
  {
   "cell_type": "code",
   "execution_count": 14,
   "metadata": {},
   "outputs": [
    {
     "name": "stdout",
     "output_type": "stream",
     "text": [
      "Running Iterative LLCM, eps= 0.05\n",
      "Accuracy: 0.91\n",
      "Running Iterative LLCM, eps= 0.1\n",
      "Accuracy: 0.509\n",
      "Running Iterative LLCM, eps= 0.15\n",
      "Accuracy: 0.236\n",
      "Running Iterative LLCM, eps= 0.2\n",
      "Accuracy: 0.187\n"
     ]
    }
   ],
   "source": [
    "clf = ILLCM(8)\n",
    "clf.load_params(params)\n",
    "epsilons = [0.05, 0.1, 0.15, 0.2]\n",
    "illcm_accs = list()\n",
    "nTest = 1000\n",
    "\n",
    "for eps in epsilons:\n",
    "    print(\"Running Iterative LLCM, eps=\", eps)\n",
    "    clf.set_attack_budget(eps)\n",
    "    y_pred_adv = np.zeros(Y_test.shape)\n",
    "    for i in range(nTest):\n",
    "        x, y = X_test[i], Y_test[i]\n",
    "        x_tilde = clf.attack(x, y)\n",
    "        y_hat = clf.predict(x_tilde)\n",
    "        y_pred_adv[i] = y_hat\n",
    "    acc = np.sum(y_pred_adv == Y_test)*1.0/nTest\n",
    "    print(\"Accuracy:\", acc)\n",
    "    illcm_accs.append(acc)"
   ]
  },
  {
   "cell_type": "code",
   "execution_count": 15,
   "metadata": {},
   "outputs": [],
   "source": [
    "ifgsm_accs.insert(0, 0.976)\n",
    "illcm_accs.insert(0, 0.976)"
   ]
  },
  {
   "cell_type": "code",
   "execution_count": 16,
   "metadata": {},
   "outputs": [],
   "source": [
    "import seaborn as sns\n",
    "sns.set_style('darkgrid')"
   ]
  },
  {
   "cell_type": "code",
   "execution_count": 18,
   "metadata": {},
   "outputs": [
    {
     "data": {
      "image/png": "[encoded data removed]",
      "text/plain": [
       "<Figure size 640x480 with 1 Axes>"
      ]
     },
     "metadata": {},
     "output_type": "display_data"
    }
   ],
   "source": [
    "plt.figure()\n",
    "X = [0, 0.05, 0.1, 0.15, 0.2]\n",
    "plt.xticks(X)\n",
    "\n",
    "plt.plot(X, fgsm_accs, 'o-', label='FGSM')\n",
    "plt.plot(X, ifgsm_accs, 'o-', label='BIM')\n",
    "plt.plot(X, illcm_accs, 'o-', label='Iterative LLCM')\n",
    "\n",
    "plt.xlabel(r\"$\\epsilon$\")\n",
    "plt.ylabel(\"Test set accuracy\")\n",
    "\n",
    "plt.legend()\n",
    "plt.show()"
   ]
  },
  {
   "cell_type": "code",
   "execution_count": null,
   "metadata": {},
   "outputs": [],
   "source": []
  }
 ],
 "metadata": {
  "kernelspec": {
   "display_name": "Python 3",
   "language": "python",
   "name": "python3"
  },
  "language_info": {
   "codemirror_mode": {
    "name": "ipython",
    "version": 3
   },
   "file_extension": ".py",
   "mimetype": "text/x-python",
   "name": "python",
   "nbconvert_exporter": "python",
   "pygments_lexer": "ipython3",
   "version": "3.12.8"
  }
 },
 "nbformat": 4,
 "nbformat_minor": 2
}
